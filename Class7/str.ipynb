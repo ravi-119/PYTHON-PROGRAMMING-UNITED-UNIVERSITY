{
 "cells": [
  {
   "cell_type": "code",
   "execution_count": 34,
   "metadata": {},
   "outputs": [
    {
     "name": "stdout",
     "output_type": "stream",
     "text": [
      "<class 'str'>\n"
     ]
    }
   ],
   "source": [
    "s1 = \"mysirg\"\n",
    "print(type(s1))"
   ]
  },
  {
   "cell_type": "code",
   "execution_count": 8,
   "metadata": {},
   "outputs": [
    {
     "data": {
      "text/plain": [
       "1218569008884815630"
      ]
     },
     "execution_count": 8,
     "metadata": {},
     "output_type": "execute_result"
    }
   ],
   "source": [
    "hash(s1)"
   ]
  },
  {
   "cell_type": "code",
   "execution_count": 11,
   "metadata": {},
   "outputs": [
    {
     "name": "stdout",
     "output_type": "stream",
     "text": [
      "\n",
      "[11, 22]\n"
     ]
    }
   ],
   "source": [
    "s2 = \"\"\n",
    "print(s2)\n",
    "\n",
    "s2 = str([11, 22])\n",
    "print(s2)\n"
   ]
  },
  {
   "cell_type": "code",
   "execution_count": 18,
   "metadata": {},
   "outputs": [
    {
     "name": "stdout",
     "output_type": "stream",
     "text": [
      "m y s\n",
      "g r i\n",
      "m\n",
      "y\n",
      "s\n",
      "i\n",
      "r\n",
      "g\n"
     ]
    }
   ],
   "source": [
    "# indexing \n",
    "s1 = \"mysirg\"\n",
    "print(s1[0], s1[1], s1[2])\n",
    "print(s1[-1], s1[-2], s1[-3])\n",
    "\n",
    "# accessing via for loop\n",
    "for e in s1:\n",
    "    print(e)\n"
   ]
  },
  {
   "cell_type": "code",
   "execution_count": 23,
   "metadata": {},
   "outputs": [
    {
     "name": "stdout",
     "output_type": "stream",
     "text": [
      "6\n",
      "g\n",
      "y\n",
      "['g', 'i', 'm', 'r', 's', 'y']\n"
     ]
    }
   ],
   "source": [
    "# Built in Methods \n",
    "print(len(s1))\n",
    "print(min(s1))\n",
    "print(max(s1))\n",
    "print(sorted(s1))\n"
   ]
  },
  {
   "cell_type": "code",
   "execution_count": 27,
   "metadata": {},
   "outputs": [
    {
     "name": "stdout",
     "output_type": "stream",
     "text": [
      "ABCDE\n",
      "DEDEDE\n"
     ]
    }
   ],
   "source": [
    "# Concatination and Repetation Operator\n",
    "s1 = \"ABC\"\n",
    "s2 = \"DE\"\n",
    "print(s1+s2)\n",
    "\n",
    "# Repetation Operator \n",
    "print(s2*3)\n"
   ]
  },
  {
   "cell_type": "code",
   "execution_count": 32,
   "metadata": {},
   "outputs": [
    {
     "name": "stdout",
     "output_type": "stream",
     "text": [
      "False\n"
     ]
    }
   ],
   "source": [
    "# Comparision Operator \n",
    "s1 = \"mysirg\"\n",
    "s2 = \"saurabh\"\n",
    "print(s1>s2)\n"
   ]
  },
  {
   "cell_type": "code",
   "execution_count": 2,
   "metadata": {},
   "outputs": [
    {
     "name": "stdout",
     "output_type": "stream",
     "text": [
      "<class 'str'>\n",
      "25\n",
      "3\n",
      "2\n",
      "3\n",
      "2\n",
      "True\n",
      "True\n",
      "False\n",
      "True\n",
      "True\n",
      "False\n",
      "MYSIRG EDUCATION SERVICES\n",
      "mysirg education services\n",
      "Mysirg education services\n",
      "mysIrg educatIon servIces\n"
     ]
    }
   ],
   "source": [
    "# str Object Methods \n",
    "s1 = \"mysirg education services\"\n",
    "print(type(s1))\n",
    "print(len(s1))\n",
    "print(s1.index(\"i\"))\n",
    "print(s1.index(\"sir\"))\n",
    "print(s1.count(\"i\"))\n",
    "print(s1.count(\" \"))\n",
    "print(s1.startswith(\"my\"))\n",
    "print(s1.endswith(\"services\"))\n",
    "s2 = \"a123\"\n",
    "print(s2.isdigit())\n",
    "s2 = \"123\"\n",
    "print(s2.isdigit())\n",
    "print(s1.islower())\n",
    "print(s1.isupper())\n",
    "print(s1.upper())\n",
    "print(s1.lower())\n",
    "print(s1.replace(\"m\", \"M\"))\n",
    "print(s1.replace(\"i\", \"I\",s1.count(\"i\")))\n",
    "\n",
    "\n",
    "\n"
   ]
  },
  {
   "cell_type": "code",
   "execution_count": 5,
   "metadata": {},
   "outputs": [
    {
     "name": "stdout",
     "output_type": "stream",
     "text": [
      "Sum of {} and {} is {}\n",
      "Sum of 10 and 20 is 30\n",
      "Sum of 30 and 20 is 10\n"
     ]
    }
   ],
   "source": [
    "# Format Function \n",
    "a,b = 10,20\n",
    "s3 = \"Sum of {} and {} is {}\"\n",
    "print(s3)\n",
    "print(s3.format(a,b,a+b))\n",
    "\n",
    "s3 = \"Sum of {2} and {1} is {0}\"\n",
    "print(s3.format(a,b,a+b))\n"
   ]
  },
  {
   "cell_type": "code",
   "execution_count": 15,
   "metadata": {},
   "outputs": [
    {
     "name": "stdout",
     "output_type": "stream",
     "text": [
      "['mysirg', 'education', 'services', 'private', 'limited']\n",
      "10, 20, 30, 40, 50, 60, 70 \n"
     ]
    }
   ],
   "source": [
    "# Split and Join \n",
    "s1 = \"mysirg education services private limited\"\n",
    "print(s1.split(\" \"))\n",
    "\n",
    "s2 = input(\"Enter numbers seperated by comma\")\n",
    "print(s2)"
   ]
  },
  {
   "cell_type": "code",
   "execution_count": 17,
   "metadata": {},
   "outputs": [
    {
     "name": "stdout",
     "output_type": "stream",
     "text": [
      "['10', ' 20', ' 30', ' 40', ' 50', ' 60', ' 70 ']\n",
      "[10, 20, 30, 40, 50, 60, 70]\n"
     ]
    }
   ],
   "source": [
    "l1 = s2.split(\",\")\n",
    "print(l1)\n",
    "\n",
    "l2 = [int(x) for x  in l1]\n",
    "print(l2)\n"
   ]
  },
  {
   "cell_type": "code",
   "execution_count": 21,
   "metadata": {},
   "outputs": [
    {
     "name": "stdout",
     "output_type": "stream",
     "text": [
      "[10, 20, 30, 40, 50, 60, 70]\n"
     ]
    }
   ],
   "source": [
    "# single line code for we can take input from user for a list \n",
    "l2 = [int(x) for x in input(\"Enter numbers seperated by comma\").split(\",\")]\n",
    "print(l2)"
   ]
  },
  {
   "cell_type": "code",
   "execution_count": 24,
   "metadata": {},
   "outputs": [
    {
     "data": {
      "text/plain": [
       "'mysirg-education-services-provide-limited'"
      ]
     },
     "execution_count": 24,
     "metadata": {},
     "output_type": "execute_result"
    }
   ],
   "source": [
    "# join \n",
    "l1 = [\"mysirg\", \"education\", \"services\", \"provide\", \"limited\"]\n",
    "strobject = \"-\"\n",
    "strobject.join(l1)\n"
   ]
  }
 ],
 "metadata": {
  "kernelspec": {
   "display_name": "Python 3.8.10 64-bit",
   "language": "python",
   "name": "python3"
  },
  "language_info": {
   "codemirror_mode": {
    "name": "ipython",
    "version": 3
   },
   "file_extension": ".py",
   "mimetype": "text/x-python",
   "name": "python",
   "nbconvert_exporter": "python",
   "pygments_lexer": "ipython3",
   "version": "3.8.10"
  },
  "orig_nbformat": 4,
  "vscode": {
   "interpreter": {
    "hash": "e7370f93d1d0cde622a1f8e1c04877d8463912d04d973331ad4851f04de6915a"
   }
  }
 },
 "nbformat": 4,
 "nbformat_minor": 2
}
