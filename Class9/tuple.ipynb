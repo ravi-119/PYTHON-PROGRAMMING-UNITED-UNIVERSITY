{
 "cells": [
  {
   "cell_type": "code",
   "execution_count": 6,
   "metadata": {},
   "outputs": [
    {
     "name": "stdout",
     "output_type": "stream",
     "text": [
      "<class 'tuple'>\n",
      "<class 'tuple'>\n",
      "<class 'int'>\n",
      "<class 'tuple'>\n",
      "<class 'tuple'>\n",
      "<class 'tuple'>\n"
     ]
    }
   ],
   "source": [
    "# tuple \n",
    "\n",
    "t1 = (1, 5, 7)\n",
    "print(type(t1))\n",
    "\n",
    "t2 = ()\n",
    "print(type(t2))\n",
    "\n",
    "t3 = (10)\n",
    "print(type(t3))\n",
    "\n",
    "t4 = (10,)\n",
    "print(type(t4))\n",
    "\n",
    "t5 = 11, 6, 3, 10\n",
    "print(type(t5))\n",
    "\n",
    "t5 = 11, 6, 3, 10,\n",
    "print(type(t5))\n",
    "\n"
   ]
  },
  {
   "cell_type": "code",
   "execution_count": 19,
   "metadata": {},
   "outputs": [
    {
     "name": "stdout",
     "output_type": "stream",
     "text": [
      "1\n",
      "7 5 1\n",
      "15\n",
      "17\n",
      "13\n",
      "12\n"
     ]
    }
   ],
   "source": [
    "#  indexing in tuple \n",
    "\n",
    "print(t1[0])\n",
    "print(t1[-1], t1[-2], t1[-3])\n",
    "\n",
    "# range\n",
    "r = range(10, 20, 1)\n",
    "print(r[5])\n",
    "print(r[7])\n",
    "print(r[3])\n",
    "print(r[2])\n"
   ]
  },
  {
   "cell_type": "code",
   "execution_count": 3,
   "metadata": {},
   "outputs": [
    {
     "name": "stdout",
     "output_type": "stream",
     "text": [
      "10\n",
      "10\n",
      "5\n",
      "20\n",
      "15\n",
      "a in t1 10\n",
      "a in t1 5\n",
      "a in t1 20\n",
      "a in t1 15\n"
     ]
    }
   ],
   "source": [
    "# Accessing tuple elements\n",
    "t1 = (10, 5, 20, 15)\n",
    "\n",
    "# first method using index number\n",
    "print(t1[0])\n",
    "\n",
    "# second method using while loop \n",
    "i = 0\n",
    "while(i<len(t1)):\n",
    "    print(t1[i])\n",
    "    i = i+1\n",
    "\n",
    "# Third method using for loop\n",
    "for a in t1 :\n",
    "    print(\"a in t1\", a)\n"
   ]
  },
  {
   "cell_type": "code",
   "execution_count": 7,
   "metadata": {},
   "outputs": [
    {
     "name": "stdout",
     "output_type": "stream",
     "text": [
      "(10, 5, 20, 15)\n",
      "4\n",
      "5\n",
      "20\n",
      "50\n",
      "[5, 10, 15, 20]\n"
     ]
    }
   ],
   "source": [
    "# Built in methods \n",
    "print(t1)\n",
    "\n",
    "print(len(t1))\n",
    "\n",
    "print(min(t1))\n",
    "\n",
    "print(max(t1))\n",
    "\n",
    "print(sum(t1))\n",
    "\n",
    "print(sorted(t1))"
   ]
  },
  {
   "cell_type": "code",
   "execution_count": 13,
   "metadata": {},
   "outputs": [
    {
     "name": "stdout",
     "output_type": "stream",
     "text": [
      "(10, 5, 20, 15)\n",
      "(10, 30, 40, 50, 60)\n",
      "(10, 5, 20, 15, 10, 30, 40, 50, 60)\n",
      "(10, 5, 20, 15, 10, 5, 20, 15, 10, 5, 20, 15)\n"
     ]
    }
   ],
   "source": [
    "# Concatination and Repetation Operator \n",
    "print(t1)\n",
    "t2 = (10, 30, 40, 50, 60)\n",
    "print(t2)\n",
    "\n",
    "print(t1+t2)\n",
    "print(t1*3)"
   ]
  },
  {
   "cell_type": "code",
   "execution_count": 16,
   "metadata": {},
   "outputs": [
    {
     "name": "stdout",
     "output_type": "stream",
     "text": [
      "(10, 5, 20, 15)\n",
      "(10, 30, 40, 50, 60)\n",
      "True\n"
     ]
    }
   ],
   "source": [
    "# Comparison Operator \n",
    "print(t1)\n",
    "print(t2)\n",
    "\n",
    "print(t1 < t2)\n",
    "\n"
   ]
  },
  {
   "cell_type": "code",
   "execution_count": 23,
   "metadata": {},
   "outputs": [
    {
     "name": "stdout",
     "output_type": "stream",
     "text": [
      "(10, 5, 20, 15)\n",
      "1\n",
      "3\n",
      "1\n"
     ]
    }
   ],
   "source": [
    "# Tuple object methods \n",
    "print(t1)\n",
    "print(t1.index(5))\n",
    "print(t1.index(15))\n",
    "\n",
    "\n",
    "print(t1.count(5))\n"
   ]
  },
  {
   "cell_type": "code",
   "execution_count": 28,
   "metadata": {},
   "outputs": [
    {
     "name": "stdout",
     "output_type": "stream",
     "text": [
      "9\n",
      "(3, 9, 3)\n",
      "(5, 4, 3, 1, 9, 2, 3, 4, 10)\n"
     ]
    }
   ],
   "source": [
    "# Slicing Operator \n",
    "t1 = (10, 4, 3, 2, 9, 1, 3, 4, 5)\n",
    "print(len(t1))\n",
    "\n",
    "print(t1[2:8:2])\n",
    "\n",
    "print(t1[ : : -1])"
   ]
  }
 ],
 "metadata": {
  "kernelspec": {
   "display_name": "Python 3.8.10 64-bit",
   "language": "python",
   "name": "python3"
  },
  "language_info": {
   "codemirror_mode": {
    "name": "ipython",
    "version": 3
   },
   "file_extension": ".py",
   "mimetype": "text/x-python",
   "name": "python",
   "nbconvert_exporter": "python",
   "pygments_lexer": "ipython3",
   "version": "3.8.10"
  },
  "orig_nbformat": 4,
  "vscode": {
   "interpreter": {
    "hash": "e7370f93d1d0cde622a1f8e1c04877d8463912d04d973331ad4851f04de6915a"
   }
  }
 },
 "nbformat": 4,
 "nbformat_minor": 2
}
