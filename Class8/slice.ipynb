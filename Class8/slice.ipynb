{
 "cells": [
  {
   "cell_type": "code",
   "execution_count": 15,
   "metadata": {},
   "outputs": [
    {
     "name": "stdout",
     "output_type": "stream",
     "text": [
      "mysir\n",
      "mysirg\n",
      "mysirg\n",
      "msr\n",
      "yr\n",
      "gris\n",
      "mysir\n",
      "grisy\n",
      "ysirg\n",
      "grisym\n",
      "grisym\n",
      "mysirg\n"
     ]
    }
   ],
   "source": [
    "# slicing \n",
    "s2 = \"mysirg\"\n",
    "print(s2[0:5:1])\n",
    "print(s2[0:6:1])\n",
    "print(s2[0:10:1])\n",
    "print(s2[0:5:2])\n",
    "print(s2[1:5:3])\n",
    "print(s2[5:1:-1])\n",
    "\n",
    "# extreme start step  = +ve beg = 0   \n",
    "# extreme start step = -ve beg = last index \n",
    "print(s2[:5:1])\n",
    "print(s2[:0:-1])\n",
    "\n",
    "\n",
    "# extreme end (inclusive) step = +ve lastindex(inclusive)\n",
    "# extreme end (inclusive) step = -ve 0 index (inclusive)\n",
    "print(s2[1::1])\n",
    "print(s2[5::-1])\n",
    "print(s2[::-1])\n",
    "\n",
    "# step 1\n",
    "print(s2[::])"
   ]
  },
  {
   "cell_type": "code",
   "execution_count": 18,
   "metadata": {},
   "outputs": [
    {
     "name": "stdout",
     "output_type": "stream",
     "text": [
      "['limited', 'private', 'services', 'education', 'mysirg']\n"
     ]
    }
   ],
   "source": [
    "#  write a python script to reverse a given string word wise \n",
    "l1 = [\"mysirg\", \"education\", \"services\", \"private\", \"limited\"]\n",
    "print(l1[5::-1])\n"
   ]
  },
  {
   "cell_type": "code",
   "execution_count": 21,
   "metadata": {},
   "outputs": [
    {
     "data": {
      "text/plain": [
       "' market to go ravi'"
      ]
     },
     "execution_count": 21,
     "metadata": {},
     "output_type": "execute_result"
    }
   ],
   "source": [
    "#  write a python script to reverse a given string word wise \n",
    "\" \".join(input(\"Enter a string\").split(\" \")[::-1])\n"
   ]
  }
 ],
 "metadata": {
  "kernelspec": {
   "display_name": "Python 3.8.10 64-bit",
   "language": "python",
   "name": "python3"
  },
  "language_info": {
   "codemirror_mode": {
    "name": "ipython",
    "version": 3
   },
   "file_extension": ".py",
   "mimetype": "text/x-python",
   "name": "python",
   "nbconvert_exporter": "python",
   "pygments_lexer": "ipython3",
   "version": "3.8.10"
  },
  "orig_nbformat": 4,
  "vscode": {
   "interpreter": {
    "hash": "e7370f93d1d0cde622a1f8e1c04877d8463912d04d973331ad4851f04de6915a"
   }
  }
 },
 "nbformat": 4,
 "nbformat_minor": 2
}
