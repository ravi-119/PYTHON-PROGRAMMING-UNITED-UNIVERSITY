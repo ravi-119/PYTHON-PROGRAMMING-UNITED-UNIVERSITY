{
 "cells": [
  {
   "cell_type": "code",
   "execution_count": 8,
   "metadata": {},
   "outputs": [
    {
     "name": "stdout",
     "output_type": "stream",
     "text": [
      "<class 'dict'>\n",
      "<class 'dict'>\n",
      "<class 'dict'>\n",
      "{'r': 'rahul', 'p': 'payal'}\n"
     ]
    }
   ],
   "source": [
    "# dict\n",
    "d1 = { 102:\"rahul\", 105:\"payal\", 106:\"Arjun\", 107:\"Prachi\" }\n",
    "print(type(d1))\n",
    "\n",
    "d2 = { }\n",
    "print(type(d2))\n",
    "\n",
    "d3 = dict( r=\"rahul\", p=\"payal\")\n",
    "print(type(d3))\n",
    "print(d3)"
   ]
  },
  {
   "cell_type": "code",
   "execution_count": 16,
   "metadata": {},
   "outputs": [
    {
     "name": "stdout",
     "output_type": "stream",
     "text": [
      "{102: 'ravi', 105: 'payal', 106: 'Arjun', 107: 'Prachi', 110: 'rama'}\n",
      "ravi Arjun\n",
      "102\n",
      "105\n",
      "106\n",
      "107\n",
      "110\n",
      "{102: 'ravi', 105: 'payal', 106: 'Arjun', 107: 'Prachi', 110: 'rama'}\n",
      "{102: 'ravi', 105: 'payal', 106: 'Arjun', 107: 'Prachi', 110: 'rama'}\n"
     ]
    }
   ],
   "source": [
    "# Accessing dict elements \n",
    "print(d1)\n",
    "\n",
    "print(d1[102], d1[106])\n",
    "\n",
    "\n",
    "# With the help of for loop\n",
    "for k in d1:\n",
    "    print(k)\n",
    "    \n",
    "\n",
    "d1[102] = \"ravi\"\n",
    "print(d1)\n",
    "\n",
    "d1[110] = \"rama\"\n",
    "print(d1)"
   ]
  },
  {
   "cell_type": "code",
   "execution_count": null,
   "metadata": {},
   "outputs": [],
   "source": [
    "# How to edit dict element \n",
    "# Editing dict element means you want to change data-value of the element and not the key-value"
   ]
  },
  {
   "cell_type": "code",
   "execution_count": 27,
   "metadata": {},
   "outputs": [
    {
     "name": "stdout",
     "output_type": "stream",
     "text": [
      "dict_keys([102, 105, 106, 107, 110])\n",
      "dict_values(['ravi', 'payal', 'Arjun', 'Prachi', 'rama'])\n",
      "dict_items([(102, 'ravi'), (105, 'payal'), (106, 'Arjun'), (107, 'Prachi'), (110, 'rama')])\n",
      "102 ravi\n",
      "105 payal\n",
      "106 Arjun\n",
      "107 Prachi\n",
      "110 rama\n",
      "102 ravi\n",
      "105 payal\n",
      "106 Arjun\n",
      "107 Prachi\n",
      "110 rama\n",
      "102 ravi\n",
      "105 payal\n",
      "106 Arjun\n",
      "107 Prachi\n",
      "110 rama\n"
     ]
    }
   ],
   "source": [
    "# Methods in python \n",
    "print(d1.keys())\n",
    "\n",
    "print(d1.values())\n",
    "\n",
    "print(d1.items())\n",
    "\n",
    "for t in d1.items():\n",
    "    k = t[0]\n",
    "    d = t[1]\n",
    "    print(k,d)\n",
    "\n",
    "\n",
    "for t in d1.items():\n",
    "    k,d=t\n",
    "    print(k,d)\n",
    "\n",
    "\n",
    "for k,d in d1.items():\n",
    "    print(k,d)"
   ]
  },
  {
   "cell_type": "code",
   "execution_count": 32,
   "metadata": {},
   "outputs": [
    {
     "name": "stdout",
     "output_type": "stream",
     "text": [
      "5\n",
      "102\n",
      "110\n",
      "530\n",
      "[102, 105, 106, 107, 110]\n"
     ]
    }
   ],
   "source": [
    "# Built in Methods \n",
    "print(len(d1))\n",
    "\n",
    "print(min(d1))\n",
    "\n",
    "print(max(d1))\n",
    "\n",
    "print(sum(d1))\n",
    "\n",
    "print(sorted(d1))"
   ]
  },
  {
   "cell_type": "code",
   "execution_count": null,
   "metadata": {},
   "outputs": [],
   "source": [
    "# Concatenation and Repetition Operator\n",
    "# dict + dict      not Supported    \n",
    "# dict + int       not Supported"
   ]
  },
  {
   "cell_type": "code",
   "execution_count": 35,
   "metadata": {},
   "outputs": [
    {
     "name": "stdout",
     "output_type": "stream",
     "text": [
      "{'r': 'rahul', 'p': 'payal'}\n",
      "{'p': 'payal', 'r': 'rahul'}\n",
      "True\n"
     ]
    }
   ],
   "source": [
    "# Comparison Operator \n",
    "# d1 > d2        not supported\n",
    "# d1 >= d2       not supported\n",
    "# d1 < d2        not supported\n",
    "# d1 <= d2       not supported\n",
    "\n",
    "# d1 == d2      supported\n",
    "# d1 != d2      supported\n",
    "\n",
    "\n",
    "# Two dict objects are equal if their items are equal. Elements can be sorted in any order.\n",
    "\n",
    "print(d3)\n",
    "d4 = { 'p':'payal', 'r':'rahul'}\n",
    "print(d4)\n",
    "\n",
    "print(d3 == d4)"
   ]
  },
  {
   "cell_type": "code",
   "execution_count": 19,
   "metadata": {},
   "outputs": [
    {
     "name": "stdout",
     "output_type": "stream",
     "text": [
      "{102: 'rahul', 105: 'payal', 106: 'Arjun', 107: 'Prachi'}\n",
      "Arjun\n",
      "{102: 'rahul', 105: 'payal', 107: 'Prachi'}\n",
      "(107, 'Prachi')\n",
      "{102: 'rahul', 105: 'payal'}\n",
      "None\n",
      "{}\n"
     ]
    }
   ],
   "source": [
    "# Dict Object Methods \n",
    "d1 = { 102:\"rahul\", 105:\"payal\", 106:\"Arjun\", 107:\"Prachi\" }\n",
    "print(d1)\n",
    "\n",
    "print(d1.pop(106))\n",
    "print(d1)\n",
    "\n",
    "print(d1.popitem())\n",
    "print(d1)\n",
    "\n",
    "print(d1.clear())\n",
    "print(d1)"
   ]
  },
  {
   "cell_type": "code",
   "execution_count": 20,
   "metadata": {},
   "outputs": [
    {
     "name": "stdout",
     "output_type": "stream",
     "text": [
      "{1: 1, 2: 4, 3: 9, 4: 16, 5: 25, 6: 36, 7: 49}\n"
     ]
    }
   ],
   "source": [
    "# Dict Comprehension \n",
    "d3 = {a:a**2 for a in range(1,8,1)}\n",
    "print(d3)"
   ]
  }
 ],
 "metadata": {
  "kernelspec": {
   "display_name": "Python 3.8.10 64-bit",
   "language": "python",
   "name": "python3"
  },
  "language_info": {
   "codemirror_mode": {
    "name": "ipython",
    "version": 3
   },
   "file_extension": ".py",
   "mimetype": "text/x-python",
   "name": "python",
   "nbconvert_exporter": "python",
   "pygments_lexer": "ipython3",
   "version": "3.8.10"
  },
  "orig_nbformat": 4,
  "vscode": {
   "interpreter": {
    "hash": "e7370f93d1d0cde622a1f8e1c04877d8463912d04d973331ad4851f04de6915a"
   }
  }
 },
 "nbformat": 4,
 "nbformat_minor": 2
}
