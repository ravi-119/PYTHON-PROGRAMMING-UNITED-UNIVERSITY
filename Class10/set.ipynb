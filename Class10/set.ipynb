{
 "cells": [
  {
   "cell_type": "code",
   "execution_count": 13,
   "metadata": {},
   "outputs": [
    {
     "name": "stdout",
     "output_type": "stream",
     "text": [
      "<class 'set'>\n",
      "{8, 1, 5}\n",
      "{2, 5, 6, 8, 10}\n",
      "{}\n",
      "<class 'dict'>\n",
      "set()\n",
      "<class 'set'>\n",
      "{'v', '9', '1', 'r'}\n"
     ]
    }
   ],
   "source": [
    "# creating of set \n",
    "s1 = { 1, 5, 8 }\n",
    "print(type(s1))\n",
    "print(s1) \n",
    "\n",
    "s2 = { 10 , 2, 8, 10, 2, 8, 5, 6}\n",
    "print(s2)\n",
    "\n",
    "s3 = {}\n",
    "print(s3)\n",
    "print(type(s3))\n",
    "\n",
    "\n",
    "s4 = set()\n",
    "print(s4)\n",
    "print(type(s4))\n",
    "\n",
    "s4 = set(\"rv119\")\n",
    "print(s4)\n"
   ]
  },
  {
   "cell_type": "code",
   "execution_count": 14,
   "metadata": {},
   "outputs": [
    {
     "name": "stdout",
     "output_type": "stream",
     "text": [
      "[10, 20, 50, 30]\n"
     ]
    }
   ],
   "source": [
    "# Write a python script to remove duplicate elements from a list \n",
    "l1  = [20, 10, 50, 20, 30, 50, 20, 10]\n",
    "print(list(set(l1)))"
   ]
  },
  {
   "cell_type": "code",
   "execution_count": 17,
   "metadata": {},
   "outputs": [
    {
     "name": "stdout",
     "output_type": "stream",
     "text": [
      "[10, 50, 20, 30]\n"
     ]
    }
   ],
   "source": [
    "l2 = list(set([int(x) for x in input(\"Enter numbers seperated by comma\").split(\",\")]))\n",
    "# [int(x) for x in input(\"Enter numbers seperated by comma\").split(\",\")]\n",
    "print(l2)"
   ]
  },
  {
   "cell_type": "code",
   "execution_count": 20,
   "metadata": {},
   "outputs": [
    {
     "name": "stdout",
     "output_type": "stream",
     "text": [
      "{40, 10, 20, 30}\n",
      "<class 'set'>\n",
      "40\n",
      "10\n",
      "20\n",
      "30\n"
     ]
    }
   ],
   "source": [
    "# Accessing set elements \n",
    "s4 = {40, 10, 30, 20}\n",
    "print(s4)\n",
    "print(type(s4))\n",
    "for e in s4:\n",
    "    print(e)"
   ]
  },
  {
   "cell_type": "code",
   "execution_count": 22,
   "metadata": {},
   "outputs": [
    {
     "name": "stdout",
     "output_type": "stream",
     "text": [
      "4\n",
      "40\n",
      "10\n",
      "100\n",
      "[10, 20, 30, 40]\n"
     ]
    }
   ],
   "source": [
    "# Built in methods \n",
    "print(len(s4))\n",
    "\n",
    "print(max(s4))\n",
    "\n",
    "print(min(s4))\n",
    "\n",
    "print(sum(s4))\n",
    "\n",
    "print(sorted(s4))"
   ]
  },
  {
   "cell_type": "code",
   "execution_count": null,
   "metadata": {},
   "outputs": [],
   "source": [
    "# Concatination and repetation Operator\n",
    "# set + set         not supported\n",
    "# set * int         not supported \n"
   ]
  },
  {
   "cell_type": "code",
   "execution_count": 23,
   "metadata": {},
   "outputs": [
    {
     "name": "stdout",
     "output_type": "stream",
     "text": [
      "False\n",
      "False\n",
      "False\n",
      "False\n",
      "False\n",
      "True\n"
     ]
    }
   ],
   "source": [
    "# Comparison Operator \n",
    "# Two set objects are equal if their elements are same, does'nt matter the order of elements\n",
    "s1 = {10, 20, 30, 40}\n",
    "s2 = {10, 20, 40, 50, 60}\n",
    "\n",
    "print(s1 > s2)\n",
    "print(s1 < s2)\n",
    "print(s1 >= s2)\n",
    "print(s1 <= s2)\n",
    "print(s1 == s2)\n",
    "print(s1 != s2)\n"
   ]
  },
  {
   "cell_type": "code",
   "execution_count": 54,
   "metadata": {},
   "outputs": [
    {
     "name": "stdout",
     "output_type": "stream",
     "text": [
      "set()\n",
      "{8}\n",
      "{1, 2, 5, 8, 10}\n",
      "True\n",
      "True\n"
     ]
    }
   ],
   "source": [
    "# set Objects methods \n",
    "s4 = {40, 10, 20, 60, 30}\n",
    "s4.add(80)\n",
    "s4.add((11, 22, 33))\n",
    "\n",
    "s4.update((11, 23))\n",
    "\n",
    "s4.remove(10)\n",
    "\n",
    "s4.discard(11)\n",
    "\n",
    "s4.pop()\n",
    "s4.pop()\n",
    "\n",
    "s4.clear()\n",
    "print(s4)\n",
    "\n",
    "s1 = {8, 1, 5}\n",
    "s2 = {8, 10, 2}\n",
    "s4 = {1, 5, 8, 10}\n",
    "print(s1.intersection(s2))\n",
    "print(s1.union(s2))\n",
    "print(s1.issubset(s4))\n",
    "print(s4.issuperset(s1))\n",
    "\n"
   ]
  },
  {
   "cell_type": "code",
   "execution_count": 44,
   "metadata": {},
   "outputs": [
    {
     "name": "stdout",
     "output_type": "stream",
     "text": [
      "{'e', 'i', 'u', 'o', 'a'}\n",
      "{'e', 'i', 'u', 'o', 'a'}\n"
     ]
    }
   ],
   "source": [
    "# Set Comprehension\n",
    "# first method  \n",
    "s = input(\"Enter a string\") \n",
    "s1 = { e for e in s if e in \"aeiou\"}\n",
    "print(s1)\n",
    "\n",
    "# second method\n",
    "for e in s:\n",
    "    if e in \"aeiou\":\n",
    "        s1.add(e)\n",
    "print(s1)"
   ]
  }
 ],
 "metadata": {
  "kernelspec": {
   "display_name": "Python 3.8.10 64-bit",
   "language": "python",
   "name": "python3"
  },
  "language_info": {
   "codemirror_mode": {
    "name": "ipython",
    "version": 3
   },
   "file_extension": ".py",
   "mimetype": "text/x-python",
   "name": "python",
   "nbconvert_exporter": "python",
   "pygments_lexer": "ipython3",
   "version": "3.8.10"
  },
  "orig_nbformat": 4,
  "vscode": {
   "interpreter": {
    "hash": "e7370f93d1d0cde622a1f8e1c04877d8463912d04d973331ad4851f04de6915a"
   }
  }
 },
 "nbformat": 4,
 "nbformat_minor": 2
}
